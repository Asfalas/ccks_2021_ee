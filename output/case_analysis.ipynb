{
 "cells": [
  {
   "cell_type": "code",
   "execution_count": 2,
   "id": "24b1b95f",
   "metadata": {},
   "outputs": [],
   "source": [
    "import json\n",
    "import matplotlib.pyplot as plt"
   ]
  },
  {
   "cell_type": "markdown",
   "id": "1392d2fe",
   "metadata": {},
   "source": [
    "## Load case.json"
   ]
  },
  {
   "cell_type": "code",
   "execution_count": 3,
   "id": "70f29bf4",
   "metadata": {},
   "outputs": [],
   "source": [
    "caseList = list()\n",
    "with open(\"case.json\", \"r\", encoding=\"utf-8\") as f:\n",
    "    for idx, line in enumerate(f.readlines()):\n",
    "        if idx % 4 == 0:\n",
    "            continue\n",
    "        if idx % 4 == 1:\n",
    "            content = line.strip().strip(\"预测：\")\n",
    "            pred = json.loads(content)\n",
    "        if idx % 4 == 2:\n",
    "            content = line.strip().strip(\"答案：\")\n",
    "            golden = json.loads(content)\n",
    "            caseList.append((pred, golden))"
   ]
  },
  {
   "cell_type": "code",
   "execution_count": 4,
   "id": "444287ce",
   "metadata": {},
   "outputs": [
    {
     "name": "stdout",
     "output_type": "stream",
     "text": [
      "408\n"
     ]
    }
   ],
   "source": [
    "print(len(caseList))"
   ]
  },
  {
   "cell_type": "markdown",
   "id": "3e5cd3eb",
   "metadata": {},
   "source": [
    "## Draw distribution of each event type in golden"
   ]
  },
  {
   "cell_type": "code",
   "execution_count": 5,
   "id": "be5c65f4",
   "metadata": {},
   "outputs": [
    {
     "data": {
      "image/png": "[encoded data removed]",
      "text/plain": [
       "<Figure size 432x288 with 1 Axes>"
      ]
     },
     "metadata": {
      "needs_background": "light"
     },
     "output_type": "display_data"
    }
   ],
   "source": [
    "eventCnt = dict()\n",
    "for predItem, goldenItem in caseList:\n",
    "    for event in goldenItem[\"event_list\"]:\n",
    "        eventType = event[\"trigger\"][0]\n",
    "        if eventType not in eventCnt:\n",
    "            eventCnt[eventType] = 0\n",
    "        eventCnt[eventType] += 1\n",
    "plt.barh(list(eventCnt.keys()), eventCnt.values())  \n",
    "plt.show() "
   ]
  },
  {
   "cell_type": "markdown",
   "id": "9809f8d7",
   "metadata": {},
   "source": [
    "## Draw precision and recall of each event type in golden"
   ]
  },
  {
   "cell_type": "code",
   "execution_count": 11,
   "id": "311aab48",
   "metadata": {},
   "outputs": [
    {
     "name": "stdout",
     "output_type": "stream",
     "text": [
      "Precision\n"
     ]
    },
    {
     "data": {
      "image/png": "[encoded data removed]",
      "text/plain": [
       "<Figure size 432x288 with 1 Axes>"
      ]
     },
     "metadata": {
      "needs_background": "light"
     },
     "output_type": "display_data"
    },
    {
     "name": "stdout",
     "output_type": "stream",
     "text": [
      "Recall\n"
     ]
    },
    {
     "data": {
      "image/png": "[encoded data removed]",
      "text/plain": [
       "<Figure size 432x288 with 1 Axes>"
      ]
     },
     "metadata": {
      "needs_background": "light"
     },
     "output_type": "display_data"
    }
   ],
   "source": [
    "tp, fp, fn = dict(), dict(), dict()\n",
    "for eventType in eventCnt:\n",
    "    tp[eventType] = fp[eventType] = fn[eventType] = 0.0\n",
    "for predItem, goldenItem in caseList:\n",
    "    predTriggerList = [event[\"trigger\"] for event in predItem[\"event_list\"]]\n",
    "    goldenTriggerList = [event[\"trigger\"] for event in goldenItem[\"event_list\"]]\n",
    "    for predTrigger in predTriggerList:\n",
    "        if predTrigger in goldenTriggerList:\n",
    "            tp[predTrigger[0]] += 1\n",
    "        else:\n",
    "            fp[predTrigger[0]] += 1\n",
    "    for goldenTrigger in goldenTriggerList:\n",
    "        if goldenTrigger not in predTriggerList:\n",
    "            fn[predTrigger[0]] += 1\n",
    "precision, recall = dict(), dict()\n",
    "for eventType in eventCnt:\n",
    "    precision[eventType] = tp[eventType] / (tp[eventType] + fp[eventType]) if tp[eventType] + fp[eventType] != 0 else 0\n",
    "    recall[eventType] = tp[eventType] / (tp[eventType] + fn[eventType]) if tp[eventType] + fn[eventType] != 0 else 0\n",
    "print(\"Precision\")\n",
    "plt.barh(list(precision.keys()), precision.values())\n",
    "plt.xlim([0, 1.1])\n",
    "plt.show() \n",
    "print(\"Recall\")\n",
    "plt.barh(list(recall.keys()), recall.values())\n",
    "plt.xlim([0, 1.1])\n",
    "plt.show() "
   ]
  },
  {
   "cell_type": "markdown",
   "id": "5d17e25e",
   "metadata": {},
   "source": [
    "## Split wrong case into: under trigger, over trigger, span mismatch and wrong type"
   ]
  },
  {
   "cell_type": "code",
   "execution_count": 20,
   "id": "bd9ab70b",
   "metadata": {},
   "outputs": [],
   "source": [
    "def findSpan(origin, spanList):\n",
    "    for span in spanList:\n",
    "        if span[1] <= origin[2] and origin[1] <= span[2]:\n",
    "            return span\n",
    "    return None\n",
    "\n",
    "ut, ot, sm, wt = list(), list(), list(), list() # under trigger, over trigger ,span mismatch, wrong type\n",
    "for predItem, goldenItem in caseList:\n",
    "    predSpanList = [(event[\"trigger\"][0], event[\"trigger\"][1], event[\"trigger\"][1] + len(event[\"trigger\"][2]), event[\"trigger\"][2]) for event in predItem[\"event_list\"]]\n",
    "    goldenSpanList = [(event[\"trigger\"][0], event[\"trigger\"][1], event[\"trigger\"][1] + len(event[\"trigger\"][2]), event[\"trigger\"][2]) for event in goldenItem[\"event_list\"]]\n",
    "    for predSpan in predSpanList:\n",
    "        target = findSpan(predSpan, goldenSpanList)\n",
    "        if target is not None:\n",
    "            if predSpan[1] == target[1] and predSpan[2] == target[2]: # span match\n",
    "                if predSpan[0] == target[0]: # tp\n",
    "                    pass\n",
    "                else:\n",
    "                    wt.append((predSpan, target, predItem[\"text\"]))\n",
    "            else:\n",
    "                sm.append((predSpan, target, predItem[\"text\"]))\n",
    "        else:\n",
    "            ot.append((predSpan, target, predItem[\"text\"]))\n",
    "    for goldenSpan in goldenSpanList:\n",
    "        target = findSpan(goldenSpan, predSpanList)\n",
    "        if target is None:\n",
    "            ut.append((target, goldenSpan, goldenItem[\"text\"])) "
   ]
  },
  {
   "cell_type": "code",
   "execution_count": 21,
   "id": "8365834b",
   "metadata": {},
   "outputs": [
    {
     "name": "stdout",
     "output_type": "stream",
     "text": [
      "under trigger\n",
      "143\n",
      "over trigger\n",
      "32\n",
      "span mismatch\n",
      "52\n",
      "wrong type\n",
      "23\n"
     ]
    }
   ],
   "source": [
    "print(\"under trigger\")\n",
    "print(len(ut))\n",
    "print(\"over trigger\")\n",
    "print(len(ot))\n",
    "print(\"span mismatch\")\n",
    "print(len(sm))\n",
    "print(\"wrong type\")\n",
    "print(len(wt))"
   ]
  },
  {
   "cell_type": "code",
   "execution_count": 22,
   "id": "685998d8",
   "metadata": {},
   "outputs": [
    {
     "data": {
      "text/plain": [
       "(None, ('SetMachine', 1, 3, '修改'), ' 修改为1之后定标正常')"
      ]
     },
     "execution_count": 22,
     "metadata": {},
     "output_type": "execute_result"
    }
   ],
   "source": [
    "ut[0]"
   ]
  },
  {
   "cell_type": "code",
   "execution_count": 23,
   "id": "7c0cd3ad",
   "metadata": {},
   "outputs": [
    {
     "data": {
      "text/plain": [
       "(('Operate', 46, 48, '复现'),\n",
       " None,\n",
       " '通过分析BTS3205E 在V100R010C10SPC150和V100R011C10版本上复现相同操作的一键式日志，')"
      ]
     },
     "execution_count": 23,
     "metadata": {},
     "output_type": "execute_result"
    }
   ],
   "source": [
    "ot[0]"
   ]
  },
  {
   "cell_type": "code",
   "execution_count": 24,
   "id": "e29cf09d",
   "metadata": {},
   "outputs": [
    {
     "data": {
      "text/plain": [
       "(('SoftHardwareFault', 15, 21, 'attach'),\n",
       " ('SoftHardwareFault', 15, 17, 'at'),\n",
       " '空口加密算法不一致导致用户无法attach')"
      ]
     },
     "execution_count": 24,
     "metadata": {},
     "output_type": "execute_result"
    }
   ],
   "source": [
    "sm[0]"
   ]
  },
  {
   "cell_type": "code",
   "execution_count": 25,
   "id": "385097b2",
   "metadata": {},
   "outputs": [
    {
     "data": {
      "text/plain": [
       "(('SoftHardwareFault', 17, 19, '定义'),\n",
       " ('SettingFault', 17, 19, '定义'),\n",
       " 'RRUCHAIN链环号中的配置信息定义错误导致XX局点LTE-FDD的Lampsite站点BBU CPRI线速率协商异常告警处理案例')"
      ]
     },
     "execution_count": 25,
     "metadata": {},
     "output_type": "execute_result"
    }
   ],
   "source": [
    "wt[0]"
   ]
  },
  {
   "cell_type": "code",
   "execution_count": null,
   "id": "051f80da",
   "metadata": {},
   "outputs": [],
   "source": []
  }
 ],
 "metadata": {
  "kernelspec": {
   "display_name": "Python 3",
   "language": "python",
   "name": "python3"
  },
  "language_info": {
   "codemirror_mode": {
    "name": "ipython",
    "version": 3
   },
   "file_extension": ".py",
   "mimetype": "text/x-python",
   "name": "python",
   "nbconvert_exporter": "python",
   "pygments_lexer": "ipython3",
   "version": "3.8.8"
  }
 },
 "nbformat": 4,
 "nbformat_minor": 5
}
